{
 "cells": [
  {
   "cell_type": "code",
   "execution_count": 26,
   "metadata": {},
   "outputs": [],
   "source": [
    "import numpy as np"
   ]
  },
  {
   "cell_type": "code",
   "execution_count": 27,
   "metadata": {},
   "outputs": [],
   "source": [
    "x=\"DATa Science\"\n",
    "y=\"numpy tutorials\""
   ]
  },
  {
   "cell_type": "code",
   "execution_count": 28,
   "metadata": {},
   "outputs": [
    {
     "data": {
      "text/plain": [
       "array('DATa Sciencenumpy tutorials', dtype='<U27')"
      ]
     },
     "execution_count": 28,
     "metadata": {},
     "output_type": "execute_result"
    }
   ],
   "source": [
    "#add two string\n",
    "np.char.add(x,y)"
   ]
  },
  {
   "cell_type": "code",
   "execution_count": 9,
   "metadata": {},
   "outputs": [
    {
     "data": {
      "text/plain": [
       "array('data science', dtype='<U12')"
      ]
     },
     "execution_count": 9,
     "metadata": {},
     "output_type": "execute_result"
    }
   ],
   "source": [
    "#lower case\n",
    "np.char.lower(x)"
   ]
  },
  {
   "cell_type": "code",
   "execution_count": 10,
   "metadata": {},
   "outputs": [
    {
     "data": {
      "text/plain": [
       "array('DATA SCIENCE', dtype='<U12')"
      ]
     },
     "execution_count": 10,
     "metadata": {},
     "output_type": "execute_result"
    }
   ],
   "source": [
    "#upper case\n",
    "np.char.upper(x)"
   ]
  },
  {
   "cell_type": "code",
   "execution_count": 11,
   "metadata": {},
   "outputs": [
    {
     "data": {
      "text/plain": [
       "array('                        DATa Science                        ',\n",
       "      dtype='<U60')"
      ]
     },
     "execution_count": 11,
     "metadata": {},
     "output_type": "execute_result"
    }
   ],
   "source": [
    "#center\n",
    "np.char.center(x,60)"
   ]
  },
  {
   "cell_type": "code",
   "execution_count": 30,
   "metadata": {},
   "outputs": [
    {
     "data": {
      "text/plain": [
       "array('************************DATa Science************************',\n",
       "      dtype='<U60')"
      ]
     },
     "execution_count": 30,
     "metadata": {},
     "output_type": "execute_result"
    }
   ],
   "source": [
    "#center\n",
    "np.char.center(x,60,fillchar=\"*\")\n"
   ]
  },
  {
   "cell_type": "code",
   "execution_count": 13,
   "metadata": {},
   "outputs": [
    {
     "data": {
      "text/plain": [
       "array(list(['DATa', 'Science']), dtype=object)"
      ]
     },
     "execution_count": 13,
     "metadata": {},
     "output_type": "execute_result"
    }
   ],
   "source": [
    "#split\n",
    "np.char.split(x)"
   ]
  },
  {
   "cell_type": "code",
   "execution_count": 35,
   "metadata": {},
   "outputs": [
    {
     "data": {
      "text/plain": [
       "array(list(['All', 'flyers', 'arriving', 'in', 'India', 'from', 'the', 'UK', 'will', 'be', 'mandatorily', 'tested', 'for', 'COVID-19', 'while', 'those', 'testing', 'positive', 'for', 'the', 'new', 'virus', 'strain', 'will', 'be', 'kept', 'in', 'a', 'separate', 'isolation', 'unit.']),\n",
       "      dtype=object)"
      ]
     },
     "execution_count": 35,
     "metadata": {},
     "output_type": "execute_result"
    }
   ],
   "source": [
    "x=\"\"\"All flyers arriving in India from the UK will be mandatorily tested\n",
    "for COVID-19 while those testing positive for the new virus strain will\n",
    "be kept in a separate isolation unit.\"\"\"\n",
    "np.char.split(x)"
   ]
  },
  {
   "cell_type": "code",
   "execution_count": 17,
   "metadata": {},
   "outputs": [
    {
     "data": {
      "text/plain": [
       "array(list(['hello', ' how r u', ' man']), dtype=object)"
      ]
     },
     "execution_count": 17,
     "metadata": {},
     "output_type": "execute_result"
    }
   ],
   "source": [
    "#splitlines\n",
    "np.char.splitlines(\"hello\\n how r u\\n man\")"
   ]
  },
  {
   "cell_type": "code",
   "execution_count": 33,
   "metadata": {},
   "outputs": [
    {
     "data": {
      "text/plain": [
       "array(list(['UK coronavirus strain: Govt issues new SOPs for UK flyers;', 'check detailsKatrina Kaif is a very important part of Tiger franchise:', \" Ali Abbas Zafar…Jagran English logoIndia's new SOPs for UK flyers: Mandatory RT-PCR testing, separate isolation unit for those having new virus strainAll flyers arriving in India from the UK will be mandatorily tested for COVID-19 while those testing positive for the new virus strain will be kept in a separate isolation unit.\"]),\n",
       "      dtype=object)"
      ]
     },
     "execution_count": 33,
     "metadata": {},
     "output_type": "execute_result"
    }
   ],
   "source": [
    "x=\"UK coronavirus strain: Govt issues new SOPs for UK flyers;\\ncheck detailsKatrina Kaif is a very important part of Tiger franchise:\\n Ali Abbas Zafar…Jagran English logoIndia's new SOPs for UK flyers: Mandatory RT-PCR testing, separate isolation unit for those having new virus strainAll flyers arriving in India from the UK will be mandatorily tested for COVID-19 while those testing positive for the new virus strain will be kept in a separate isolation unit.\"\n",
    "#splitlines\n",
    "np.char.splitlines(x)"
   ]
  },
  {
   "cell_type": "code",
   "execution_count": 38,
   "metadata": {},
   "outputs": [
    {
     "data": {
      "text/plain": [
       "array(['a*b*n*b*j*h*b*j*h*c', 'a:b:h:j:g:f:j:k:a:h:d:s:g:k:c'],\n",
       "      dtype='<U29')"
      ]
     },
     "execution_count": 38,
     "metadata": {},
     "output_type": "execute_result"
    }
   ],
   "source": [
    "#join\n",
    "a=\"abnbjhbjhc\"\n",
    "b=\"abhjgfjkahdsgkc\"\n",
    "np.char.join([\"*\",\":\"],[a,b])"
   ]
  },
  {
   "cell_type": "code",
   "execution_count": 39,
   "metadata": {},
   "outputs": [
    {
     "data": {
      "text/plain": [
       "array('we are going to replace a word', dtype='<U30')"
      ]
     },
     "execution_count": 39,
     "metadata": {},
     "output_type": "execute_result"
    }
   ],
   "source": [
    "#replace\n",
    "x=\"we are going to change a word\"\n",
    "np.char.replace(x,\"change\",\"replace\")"
   ]
  },
  {
   "cell_type": "code",
   "execution_count": 40,
   "metadata": {},
   "outputs": [
    {
     "data": {
      "text/plain": [
       "array(True)"
      ]
     },
     "execution_count": 40,
     "metadata": {},
     "output_type": "execute_result"
    }
   ],
   "source": [
    "#is equal\n",
    "a=\"abc\"\n",
    "b=\"abc\"\n",
    "np.char.equal(a,b)"
   ]
  },
  {
   "cell_type": "code",
   "execution_count": 41,
   "metadata": {},
   "outputs": [
    {
     "data": {
      "text/plain": [
       "array(4)"
      ]
     },
     "execution_count": 41,
     "metadata": {},
     "output_type": "execute_result"
    }
   ],
   "source": [
    "#count\n",
    "x=\"we are here to learn data sci\"\n",
    "\n",
    "np.char.count(x,\"a\")"
   ]
  },
  {
   "cell_type": "code",
   "execution_count": 42,
   "metadata": {},
   "outputs": [
    {
     "data": {
      "text/plain": [
       "array(3)"
      ]
     },
     "execution_count": 42,
     "metadata": {},
     "output_type": "execute_result"
    }
   ],
   "source": [
    "#find the word index numbr\n",
    "x=\"we are going to change a word\"\n",
    "np.char.find(x,\"are\")"
   ]
  },
  {
   "cell_type": "code",
   "execution_count": null,
   "metadata": {},
   "outputs": [],
   "source": []
  },
  {
   "cell_type": "code",
   "execution_count": null,
   "metadata": {},
   "outputs": [],
   "source": []
  },
  {
   "cell_type": "code",
   "execution_count": null,
   "metadata": {},
   "outputs": [],
   "source": [
    "https://indianaiproduction.com/numpy-string-operations/\n",
    "https://indianaiproduction.com/numpy-random/"
   ]
  },
  {
   "cell_type": "code",
   "execution_count": null,
   "metadata": {},
   "outputs": [],
   "source": [
    " "
   ]
  }
 ],
 "metadata": {
  "kernelspec": {
   "display_name": "Python 3",
   "language": "python",
   "name": "python3"
  },
  "language_info": {
   "codemirror_mode": {
    "name": "ipython",
    "version": 3
   },
   "file_extension": ".py",
   "mimetype": "text/x-python",
   "name": "python",
   "nbconvert_exporter": "python",
   "pygments_lexer": "ipython3",
   "version": "3.7.3"
  }
 },
 "nbformat": 4,
 "nbformat_minor": 2
}
