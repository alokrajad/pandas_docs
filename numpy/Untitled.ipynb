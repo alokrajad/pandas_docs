{
 "cells": [
  {
   "cell_type": "code",
   "execution_count": 11,
   "metadata": {},
   "outputs": [
    {
     "name": "stdout",
     "output_type": "stream",
     "text": [
      "1172468412168\n",
      "1172468496968\n"
     ]
    },
    {
     "data": {
      "text/plain": [
       "[1, 2, 3]"
      ]
     },
     "execution_count": 11,
     "metadata": {},
     "output_type": "execute_result"
    }
   ],
   "source": [
    "x=[1,2,2,3,1,2]\n",
    "print(id(x))\n",
    "x=list(set(x))\n",
    "print(id(x))\n",
    "x"
   ]
  },
  {
   "cell_type": "code",
   "execution_count": 87,
   "metadata": {},
   "outputs": [
    {
     "name": "stdout",
     "output_type": "stream",
     "text": [
      "19 [1, 2, 2, 3, 1, 2, 4, 5, 5, 6, 6, 6, 8, 8, 9, 9, 6, 1, 1] 1 4\n",
      "18 [2, 2, 3, 1, 2, 4, 5, 5, 6, 6, 6, 8, 8, 9, 9, 6, 1, 1] 2 3\n",
      "17 [2, 3, 1, 2, 4, 5, 5, 6, 6, 6, 8, 8, 9, 9, 6, 1, 1] 1 3\n",
      "16 [2, 3, 2, 4, 5, 5, 6, 6, 6, 8, 8, 9, 9, 6, 1, 1] 4 1\n",
      "15 [2, 3, 2, 5, 5, 6, 6, 6, 8, 8, 9, 9, 6, 1, 1] 5 2\n",
      "14 [2, 3, 2, 5, 6, 6, 6, 8, 8, 9, 9, 6, 1, 1] 6 4\n",
      "13 [2, 3, 2, 5, 6, 6, 8, 8, 9, 9, 6, 1, 1] 8 2\n",
      "12 [2, 3, 2, 5, 6, 6, 8, 9, 9, 6, 1, 1] 9 2\n",
      "11 [2, 3, 2, 5, 6, 6, 8, 9, 6, 1, 1] 6 3\n",
      "10 [2, 3, 2, 5, 6, 8, 9, 6, 1, 1] 1 2\n",
      "[2, 3, 2, 5, 6, 8, 9, 6, 1]\n"
     ]
    }
   ],
   "source": [
    "import copy\n",
    "x=[1,2,2,3,1,2,4,5,5,6,6,6,8,8,9,9,6,1,1]\n",
    "\n",
    "for i in x:  \n",
    "    print(len(x),x,i,x.count(i))\n",
    "    if x.count(i)>0:\n",
    "       \n",
    "        x.remove(i)\n",
    "     \n",
    "    \n",
    "print(x)"
   ]
  },
  {
   "cell_type": "code",
   "execution_count": 95,
   "metadata": {},
   "outputs": [
    {
     "name": "stdout",
     "output_type": "stream",
     "text": [
      "19 0 1 4\n",
      "1\n",
      "18 1 2 3\n",
      "2\n",
      "17 2 1 3\n",
      "1\n",
      "16 3 4 1\n",
      "4\n",
      "16 4 5 2\n",
      "5\n",
      "15 5 6 4\n",
      "6\n",
      "14 6 6 3\n",
      "6\n",
      "13 7 8 2\n",
      "8\n",
      "12 8 9 2\n",
      "9\n",
      "11 9 1 2\n",
      "1\n"
     ]
    },
    {
     "ename": "IndexError",
     "evalue": "list index out of range",
     "output_type": "error",
     "traceback": [
      "\u001b[1;31m---------------------------------------------------------------------------\u001b[0m",
      "\u001b[1;31mIndexError\u001b[0m                                Traceback (most recent call last)",
      "\u001b[1;32m<ipython-input-95-b84b5b1284fd>\u001b[0m in \u001b[0;36m<module>\u001b[1;34m\u001b[0m\n\u001b[0;32m      2\u001b[0m \u001b[1;33m\u001b[0m\u001b[0m\n\u001b[0;32m      3\u001b[0m \u001b[1;32mfor\u001b[0m \u001b[0mi\u001b[0m \u001b[1;32min\u001b[0m \u001b[0mrange\u001b[0m\u001b[1;33m(\u001b[0m\u001b[0mlen\u001b[0m\u001b[1;33m(\u001b[0m\u001b[0mx\u001b[0m\u001b[1;33m)\u001b[0m\u001b[1;33m)\u001b[0m\u001b[1;33m:\u001b[0m\u001b[1;33m\u001b[0m\u001b[1;33m\u001b[0m\u001b[0m\n\u001b[1;32m----> 4\u001b[1;33m     \u001b[0mprint\u001b[0m\u001b[1;33m(\u001b[0m\u001b[0mlen\u001b[0m\u001b[1;33m(\u001b[0m\u001b[0mx\u001b[0m\u001b[1;33m)\u001b[0m\u001b[1;33m,\u001b[0m\u001b[0mi\u001b[0m\u001b[1;33m,\u001b[0m\u001b[0mx\u001b[0m\u001b[1;33m[\u001b[0m\u001b[0mi\u001b[0m\u001b[1;33m]\u001b[0m\u001b[1;33m,\u001b[0m\u001b[0mx\u001b[0m\u001b[1;33m.\u001b[0m\u001b[0mcount\u001b[0m\u001b[1;33m(\u001b[0m\u001b[0mx\u001b[0m\u001b[1;33m[\u001b[0m\u001b[0mi\u001b[0m\u001b[1;33m]\u001b[0m\u001b[1;33m)\u001b[0m\u001b[1;33m)\u001b[0m\u001b[1;33m\u001b[0m\u001b[1;33m\u001b[0m\u001b[0m\n\u001b[0m\u001b[0;32m      5\u001b[0m     \u001b[1;32mif\u001b[0m \u001b[0mx\u001b[0m\u001b[1;33m.\u001b[0m\u001b[0mcount\u001b[0m\u001b[1;33m(\u001b[0m\u001b[0mx\u001b[0m\u001b[1;33m[\u001b[0m\u001b[0mi\u001b[0m\u001b[1;33m]\u001b[0m\u001b[1;33m)\u001b[0m\u001b[1;33m>\u001b[0m\u001b[1;36m1\u001b[0m\u001b[1;33m:\u001b[0m\u001b[1;33m\u001b[0m\u001b[1;33m\u001b[0m\u001b[0m\n\u001b[0;32m      6\u001b[0m         \u001b[0mprint\u001b[0m\u001b[1;33m(\u001b[0m\u001b[0mx\u001b[0m\u001b[1;33m[\u001b[0m\u001b[0mi\u001b[0m\u001b[1;33m]\u001b[0m\u001b[1;33m)\u001b[0m\u001b[1;33m\u001b[0m\u001b[1;33m\u001b[0m\u001b[0m\n",
      "\u001b[1;31mIndexError\u001b[0m: list index out of range"
     ]
    }
   ],
   "source": [
    "x=[1,2,2,3,1,2,4,5,5,6,6,6,8,8,9,9,6,1,1]\n",
    "\n",
    "for i in range(len(x)):  \n",
    "    print(len(x),i,x[i],x.count(x[i]))\n",
    "    if x.count(x[i])>1:\n",
    "        print(x[i])\n",
    "        x.remove(x[i])\n",
    "        \n",
    "    else:\n",
    "        print(x[i])\n",
    "\n",
    "  \n"
   ]
  },
  {
   "cell_type": "code",
   "execution_count": 96,
   "metadata": {},
   "outputs": [
    {
     "name": "stdout",
     "output_type": "stream",
     "text": [
      "[2, 3, 2, 4, 5, 6, 8, 9, 6, 1]\n"
     ]
    }
   ],
   "source": [
    "print(x)"
   ]
  },
  {
   "cell_type": "code",
   "execution_count": 101,
   "metadata": {},
   "outputs": [],
   "source": [
    "x=[1,2,2,3,1,2,4,5,5,6,6,6,8,8,9,9,6,1,1]\n",
    "for i in x:\n",
    "    x.remove(i)"
   ]
  },
  {
   "cell_type": "code",
   "execution_count": 102,
   "metadata": {},
   "outputs": [
    {
     "data": {
      "text/plain": [
       "[2, 3, 2, 5, 6, 8, 9, 6, 1]"
      ]
     },
     "execution_count": 102,
     "metadata": {},
     "output_type": "execute_result"
    }
   ],
   "source": [
    "x"
   ]
  },
  {
   "cell_type": "code",
   "execution_count": 4,
   "metadata": {},
   "outputs": [
    {
     "name": "stdout",
     "output_type": "stream",
     "text": [
      "enter hour0\n",
      "enter min0\n",
      "enter sec3\n",
      "0\n",
      "1\n",
      "2\n",
      "motor is on\n"
     ]
    }
   ],
   "source": [
    "x=int(input(\"enter hour\"))\n",
    "import time\n",
    "y=int(input(\"enter min\"))\n",
    "z=int(input(\"enter sec\"))\n",
    "\n",
    "def sec(y,z):\n",
    "    t=x*60*60+y*60+z\n",
    "    for i in range(t):\n",
    "        print(i)\n",
    "        time.sleep(1)\n",
    "\n",
    "sec(y,z)\n",
    "print(\"motor is on\")"
   ]
  },
  {
   "cell_type": "code",
   "execution_count": null,
   "metadata": {},
   "outputs": [],
   "source": []
  },
  {
   "cell_type": "code",
   "execution_count": null,
   "metadata": {},
   "outputs": [],
   "source": []
  }
 ],
 "metadata": {
  "kernelspec": {
   "display_name": "Python 3",
   "language": "python",
   "name": "python3"
  },
  "language_info": {
   "codemirror_mode": {
    "name": "ipython",
    "version": 3
   },
   "file_extension": ".py",
   "mimetype": "text/x-python",
   "name": "python",
   "nbconvert_exporter": "python",
   "pygments_lexer": "ipython3",
   "version": "3.7.3"
  }
 },
 "nbformat": 4,
 "nbformat_minor": 2
}
